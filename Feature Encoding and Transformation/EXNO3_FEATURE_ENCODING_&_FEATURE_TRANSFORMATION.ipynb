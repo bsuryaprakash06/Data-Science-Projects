{
  "nbformat": 4,
  "nbformat_minor": 0,
  "metadata": {
    "colab": {
      "provenance": []
    },
    "kernelspec": {
      "name": "python3",
      "display_name": "Python 3"
    },
    "language_info": {
      "name": "python"
    }
  },
  "cells": [
    {
      "cell_type": "code",
      "execution_count": null,
      "metadata": {
        "id": "Uw00iz0bs4-_"
      },
      "outputs": [],
      "source": [
        "import pandas as pd"
      ]
    },
    {
      "cell_type": "code",
      "source": [
        "df=pd.read_csv(\"/content/Encoding Data.csv\")\n",
        "df"
      ],
      "metadata": {
        "id": "yVSV3tx-teA4"
      },
      "execution_count": null,
      "outputs": []
    },
    {
      "cell_type": "markdown",
      "source": [
        "**ORDINAL ENCODER**"
      ],
      "metadata": {
        "id": "b5DuEUOnt64y"
      }
    },
    {
      "cell_type": "code",
      "source": [
        "from sklearn.preprocessing import LabelEncoder,OrdinalEncoder"
      ],
      "metadata": {
        "id": "IhdaCfgqtxzh"
      },
      "execution_count": null,
      "outputs": []
    },
    {
      "cell_type": "code",
      "source": [
        "pm=['Hot','Warm','Cold']"
      ],
      "metadata": {
        "id": "SFJGE3rx0Jzk"
      },
      "execution_count": null,
      "outputs": []
    },
    {
      "cell_type": "code",
      "source": [
        "##TYPE YOUR CODE HERE"
      ],
      "metadata": {
        "id": "D9qJZ3oL0NNo"
      },
      "execution_count": null,
      "outputs": []
    },
    {
      "cell_type": "code",
      "source": [
        "df['bo2']=e1.fit_transform(df[[\"ord_2\"]])"
      ],
      "metadata": {
        "id": "tJwa5l8W0RnA"
      },
      "execution_count": null,
      "outputs": []
    },
    {
      "cell_type": "code",
      "source": [
        "df"
      ],
      "metadata": {
        "id": "g-r_Nv6y0Vem"
      },
      "execution_count": null,
      "outputs": []
    },
    {
      "cell_type": "code",
      "source": [
        "df['ord_2']=e1.fit_transform(df[[\"ord_2\"]])"
      ],
      "metadata": {
        "id": "dYbpm3Qy0XWI"
      },
      "execution_count": null,
      "outputs": []
    },
    {
      "cell_type": "code",
      "source": [
        "df"
      ],
      "metadata": {
        "id": "2dN-t8yV0e2O"
      },
      "execution_count": null,
      "outputs": []
    },
    {
      "cell_type": "markdown",
      "source": [
        "**LABEL ENCODER**"
      ],
      "metadata": {
        "id": "Zfqbiwq50jRe"
      }
    },
    {
      "cell_type": "code",
      "source": [
        "le=LabelEncoder()"
      ],
      "metadata": {
        "id": "hKe7Efpo0gwG"
      },
      "execution_count": null,
      "outputs": []
    },
    {
      "cell_type": "code",
      "source": [
        "dfc=df.copy()"
      ],
      "metadata": {
        "id": "Qe1cUOli0nlr"
      },
      "execution_count": null,
      "outputs": []
    },
    {
      "cell_type": "code",
      "source": [
        "##TYPE YOUR CODE HERE"
      ],
      "metadata": {
        "id": "AYwsTLFF0pvX"
      },
      "execution_count": null,
      "outputs": []
    },
    {
      "cell_type": "markdown",
      "source": [
        "**OneHotEncoder**"
      ],
      "metadata": {
        "id": "fmYzFXxD0u37"
      }
    },
    {
      "cell_type": "code",
      "source": [
        "from sklearn.preprocessing import OneHotEncoder"
      ],
      "metadata": {
        "id": "x03bsJMn0sGs"
      },
      "execution_count": null,
      "outputs": []
    },
    {
      "cell_type": "code",
      "source": [
        "ohe=OneHotEncoder(sparse=False)\n",
        "df2=df.copy()"
      ],
      "metadata": {
        "id": "kaq89KEu1Mqz"
      },
      "execution_count": null,
      "outputs": []
    },
    {
      "cell_type": "code",
      "source": [
        "#TYPE YOUR DATAFRAME CODE HERE"
      ],
      "metadata": {
        "id": "8FAOQM_G1Og4"
      },
      "execution_count": null,
      "outputs": []
    },
    {
      "cell_type": "code",
      "source": [
        "#TYPE YOUR CONCAT CODE HERE"
      ],
      "metadata": {
        "id": "_xR2Yt-Y1VEC"
      },
      "execution_count": null,
      "outputs": []
    },
    {
      "cell_type": "code",
      "source": [
        "pd.get_dummies(df2,columns=[\"nom_0\"])"
      ],
      "metadata": {
        "id": "ZAwB3bGf1YPs"
      },
      "execution_count": null,
      "outputs": []
    },
    {
      "cell_type": "markdown",
      "source": [
        "**BinaryEncoder**"
      ],
      "metadata": {
        "id": "ze1SlnBF1eJn"
      }
    },
    {
      "cell_type": "code",
      "source": [
        "pip install --upgrade category_encoders"
      ],
      "metadata": {
        "id": "-qqzNvj51c37"
      },
      "execution_count": null,
      "outputs": []
    },
    {
      "cell_type": "code",
      "source": [
        "from category_encoders import BinaryEncoder"
      ],
      "metadata": {
        "id": "ExemM3nr1kk9"
      },
      "execution_count": null,
      "outputs": []
    },
    {
      "cell_type": "code",
      "source": [
        "df=pd.read_csv(\"/content/data.csv\")"
      ],
      "metadata": {
        "id": "MaI7QJTE1noN"
      },
      "execution_count": null,
      "outputs": []
    },
    {
      "cell_type": "code",
      "source": [
        "df"
      ],
      "metadata": {
        "id": "yOqoVHEb1pb1"
      },
      "execution_count": null,
      "outputs": []
    },
    {
      "cell_type": "code",
      "source": [
        "be=BinaryEncoder()"
      ],
      "metadata": {
        "id": "HdyUzQB01ror"
      },
      "execution_count": null,
      "outputs": []
    },
    {
      "cell_type": "code",
      "source": [
        "##TYPE YOUR CODE HERE"
      ],
      "metadata": {
        "id": "NlTK0eXC1vJ3"
      },
      "execution_count": null,
      "outputs": []
    },
    {
      "cell_type": "markdown",
      "source": [
        "**TargetEncoder**"
      ],
      "metadata": {
        "id": "ZewuRrZv1kPa"
      }
    },
    {
      "cell_type": "code",
      "source": [
        "from category_encoders import TargetEncoder"
      ],
      "metadata": {
        "id": "SmgCx24S15Mm"
      },
      "execution_count": null,
      "outputs": []
    },
    {
      "cell_type": "code",
      "source": [
        "te=TargetEncoder()"
      ],
      "metadata": {
        "id": "qYpk96hb17Pw"
      },
      "execution_count": null,
      "outputs": []
    },
    {
      "cell_type": "code",
      "source": [
        "cc=df.copy()"
      ],
      "metadata": {
        "id": "HfZ7fJz519zO"
      },
      "execution_count": null,
      "outputs": []
    },
    {
      "cell_type": "code",
      "source": [
        "##TYPE YOUR CODE HERE"
      ],
      "metadata": {
        "id": "Ixc2bNG-1_8-"
      },
      "execution_count": null,
      "outputs": []
    },
    {
      "cell_type": "code",
      "source": [
        "#TYPE YOUR CONCAT CODE HERE"
      ],
      "metadata": {
        "id": "-XJ2cDEM2EJ0"
      },
      "execution_count": null,
      "outputs": []
    },
    {
      "cell_type": "markdown",
      "source": [
        "**FEATURE TRANSFORMATION**"
      ],
      "metadata": {
        "id": "eEFiB6li3a28"
      }
    },
    {
      "cell_type": "code",
      "source": [
        "import pandas as pd\n",
        "from scipy import stats\n",
        "import numpy as np"
      ],
      "metadata": {
        "id": "O8eknqs0ptxY"
      },
      "execution_count": null,
      "outputs": []
    },
    {
      "cell_type": "code",
      "source": [
        "df=pd.read_csv(\"/content/Data_to_Transform.csv\")"
      ],
      "metadata": {
        "id": "DvojH9fZ3pPT"
      },
      "execution_count": null,
      "outputs": []
    },
    {
      "cell_type": "code",
      "source": [
        "df.skew()"
      ],
      "metadata": {
        "id": "XcpKUdzH3utM"
      },
      "execution_count": null,
      "outputs": []
    },
    {
      "cell_type": "code",
      "source": [
        "#Perform Log,Reciprocal,sqrt,dquare method one by one"
      ],
      "metadata": {
        "id": "YFJ8gY8D35iq"
      },
      "execution_count": null,
      "outputs": []
    },
    {
      "cell_type": "code",
      "source": [
        "#perfrom boxcox and yeojhonson method for any one column"
      ],
      "metadata": {
        "id": "M_jXrKZq5sCy"
      },
      "execution_count": null,
      "outputs": []
    },
    {
      "cell_type": "code",
      "source": [
        "import matplotlib.pyplot as plt\n",
        "import seaborn as sns\n",
        "import statsmodels.api as sm\n",
        "import scipy.stats as stats"
      ],
      "metadata": {
        "id": "jliLGvp26NwI"
      },
      "execution_count": null,
      "outputs": []
    },
    {
      "cell_type": "code",
      "source": [
        "sm.qqplot(df['Moderate Negative Skew'],line='45')\n",
        "plt.show()"
      ],
      "metadata": {
        "id": "G9dEZWqE6Ohw"
      },
      "execution_count": null,
      "outputs": []
    },
    {
      "cell_type": "code",
      "source": [
        "sm.qqplot(df['Moderate Negative Skew_1'],line='45')\n",
        "plt.show()"
      ],
      "metadata": {
        "id": "ZJU7q2-C6QtP"
      },
      "execution_count": null,
      "outputs": []
    },
    {
      "cell_type": "code",
      "source": [
        "df[\"Highly Negative Skew_1\"]=qt.fit_transform(df[[\"Highly Negative Skew\"]])\n",
        "sm.qqplot(df['Highly Negative Skew'],line='45')\n",
        "plt.show()"
      ],
      "metadata": {
        "id": "qKv4n0xO6UaO"
      },
      "execution_count": null,
      "outputs": []
    },
    {
      "cell_type": "code",
      "source": [
        "df"
      ],
      "metadata": {
        "id": "0gLgezs16VOm"
      },
      "execution_count": null,
      "outputs": []
    },
    {
      "cell_type": "code",
      "source": [
        "sm.qqplot(df['Highly Negative Skew_1'],line='45')\n",
        "plt.show()"
      ],
      "metadata": {
        "id": "fMrnkLpa6ZcI"
      },
      "execution_count": null,
      "outputs": []
    }
  ]
}