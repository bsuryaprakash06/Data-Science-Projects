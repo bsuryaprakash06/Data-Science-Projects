{
  "nbformat": 4,
  "nbformat_minor": 0,
  "metadata": {
    "colab": {
      "provenance": []
    },
    "kernelspec": {
      "name": "python3",
      "display_name": "Python 3"
    },
    "language_info": {
      "name": "python"
    }
  },
  "cells": [
    {
      "cell_type": "markdown",
      "source": [
        "**Data visualization Using Matplotlib**\n"
      ],
      "metadata": {
        "id": "ZpmPWTIR5Kdl"
      }
    },
    {
      "cell_type": "code",
      "execution_count": null,
      "metadata": {
        "id": "ne1kYA7c5FrF"
      },
      "outputs": [],
      "source": [
        "import pandas as pd\n",
        "import numpy as np\n",
        "import seaborn as sns\n",
        "import matplotlib.pyplot as plt"
      ]
    },
    {
      "cell_type": "code",
      "source": [
        "x = [1, 2, 3, 4, 5]\n",
        "y = [3, 6, 2, 7, 1]"
      ],
      "metadata": {
        "id": "nCcjbW9O5NST"
      },
      "execution_count": null,
      "outputs": []
    },
    {
      "cell_type": "code",
      "source": [
        "# CREATE A LINE GRAPH FOR X AND Y AND LABEL X axis and Y Axis and create a legend"
      ],
      "metadata": {
        "id": "JSvFpHor5Q4R"
      },
      "execution_count": null,
      "outputs": []
    },
    {
      "cell_type": "code",
      "source": [
        "# line 1 points\n",
        "x1 = [1,2,3]\n",
        "y1 = [2,4,1]\n",
        "x2 = [1,2,3]\n",
        "y2 = [4,1,3]"
      ],
      "metadata": {
        "id": "rCOeMm_X99OF"
      },
      "execution_count": null,
      "outputs": []
    },
    {
      "cell_type": "code",
      "source": [
        "# plot line 1 and line 2 points in same graph and include the necessary parameters"
      ],
      "metadata": {
        "id": "mPnleF5R-XmM"
      },
      "execution_count": null,
      "outputs": []
    },
    {
      "cell_type": "code",
      "source": [
        "# plot the points in the above graph"
      ],
      "metadata": {
        "id": "ek9nhdvY-dly"
      },
      "execution_count": null,
      "outputs": []
    },
    {
      "cell_type": "code",
      "source": [
        "# Creating some random data\n",
        "x = [1, 2, 3, 4, 5]\n",
        "y1 = [10, 12, 14, 16, 18]\n",
        "y2 = [5, 7, 9, 11, 13]\n",
        "y3 = [2, 4, 6, 8, 10]"
      ],
      "metadata": {
        "id": "MofkNnSt5xZQ"
      },
      "execution_count": null,
      "outputs": []
    },
    {
      "cell_type": "code",
      "source": [
        "x_values = [0,1,2,3,4,5]\n",
        "y_values = [0,1,4,9,16,25]"
      ],
      "metadata": {
        "id": "AFKPiqAV5ZWw"
      },
      "execution_count": null,
      "outputs": []
    },
    {
      "cell_type": "code",
      "source": [
        "# implement line graph using fill between option"
      ],
      "metadata": {
        "id": "7iPX5LAf-0Ty"
      },
      "execution_count": null,
      "outputs": []
    },
    {
      "cell_type": "code",
      "source": [
        "from scipy.interpolate import make_interp_spline\n",
        "x = np.array([1, 2, 3, 4, 5, 6, 7, 8, 9, 10])\n",
        "y = np.array([2, 4, 5, 7, 8, 8, 9, 10, 11, 12])"
      ],
      "metadata": {
        "id": "7OeLM1md_CJH"
      },
      "execution_count": null,
      "outputs": []
    },
    {
      "cell_type": "code",
      "source": [
        "# interpolate data using cubic spline"
      ],
      "metadata": {
        "id": "Xm_NFeu1_TgC"
      },
      "execution_count": null,
      "outputs": []
    },
    {
      "cell_type": "markdown",
      "source": [
        "**BAR GRAPH**"
      ],
      "metadata": {
        "id": "tRdqQerc_uHC"
      }
    },
    {
      "cell_type": "code",
      "source": [
        "values = [5, 6, 3, 7, 2]\n",
        "names  = [\"A\", \"B\", \"C\", \"D\", \"E\"]"
      ],
      "metadata": {
        "id": "Wq0Lh0LH_cRK"
      },
      "execution_count": null,
      "outputs": []
    },
    {
      "cell_type": "code",
      "source": [
        "# Create bar graph using the above two variables and include the necessary parameters\n",
        "\n",
        "c1 =['red', 'green']\n",
        "c2 =['b', 'g'] # we can use this for color\n",
        "# plot a bar chart\n"
      ],
      "metadata": {
        "id": "0Mucc6HT_e2k"
      },
      "execution_count": null,
      "outputs": []
    },
    {
      "cell_type": "code",
      "source": [
        "df = sns.load_dataset(\"tips\")"
      ],
      "metadata": {
        "id": "hYO6yvQT_sdT"
      },
      "execution_count": null,
      "outputs": []
    },
    {
      "cell_type": "code",
      "source": [
        "df"
      ],
      "metadata": {
        "id": "-3OJdr-caVSe"
      },
      "execution_count": null,
      "outputs": []
    },
    {
      "cell_type": "code",
      "source": [
        "plt.figure(figsize=(8, 6))\n",
        "p1 = plt.bar(avg_total_bill.index, avg_total_bill, label='Total Bill')\n",
        "p2 = plt.bar(avg_tip.index, avg_tip, bottom=avg_total_bill, label='Tip')\n",
        "# Set the labels and title\n",
        "plt.xlabel('Day of the Week')\n",
        "plt.ylabel('Amount')\n",
        "plt.title('Average Total Bill and Tip by Day')\n",
        "plt.legend()\n"
      ],
      "metadata": {
        "id": "0GfUs2yLaWGx"
      },
      "execution_count": null,
      "outputs": []
    },
    {
      "cell_type": "markdown",
      "source": [
        "**SCATTER PLOT**"
      ],
      "metadata": {
        "id": "GNxh0Jwlc_3g"
      }
    },
    {
      "cell_type": "code",
      "source": [
        "x_values = [0,1,2,3,4,5]\n",
        "y_values = [0,1,4,9,16,25]"
      ],
      "metadata": {
        "id": "sXgSJgLya0sp"
      },
      "execution_count": null,
      "outputs": []
    },
    {
      "cell_type": "code",
      "source": [
        "# CREATE A SCATTER PLOT FOR X_VALUES AND Y_VALUES"
      ],
      "metadata": {
        "id": "SFqignYy5ovN"
      },
      "execution_count": null,
      "outputs": []
    },
    {
      "cell_type": "code",
      "source": [
        "# x-axis values\n",
        "x = [1,2,3,4,5,6,7,8,9,10]\n",
        "# y-axis values\n",
        "y = [2,4,5,7,6,8,9,11,12,12]"
      ],
      "metadata": {
        "id": "zg9L-696dGBW"
      },
      "execution_count": null,
      "outputs": []
    },
    {
      "cell_type": "code",
      "source": [
        "# plot the above points x and y in scatter plot Using the parmeters label= \"stars\", color=\"green\", marker=\"*\", s=30"
      ],
      "metadata": {
        "id": "1MBAS6eDdcIR"
      },
      "execution_count": null,
      "outputs": []
    },
    {
      "cell_type": "code",
      "source": [
        "# set x-axis label and y axis label\n",
        "\n"
      ],
      "metadata": {
        "id": "ZhY3_ltJdvi_"
      },
      "execution_count": null,
      "outputs": []
    },
    {
      "cell_type": "code",
      "source": [
        "# set the title and legend of the graph\n"
      ],
      "metadata": {
        "id": "JAol1RRmeBvE"
      },
      "execution_count": null,
      "outputs": []
    },
    {
      "cell_type": "markdown",
      "source": [
        "**Pie-chart**"
      ],
      "metadata": {
        "id": "bdGi3q8keSzm"
      }
    },
    {
      "cell_type": "code",
      "source": [
        "# defining labels\n",
        "activities = ['eat', 'sleep', 'work', 'play']\n",
        "# portion covered by each label\n",
        "slices = [3, 7, 8, 6]\n",
        "# color for each label\n",
        "colors = ['r', 'y', 'g', 'b']"
      ],
      "metadata": {
        "id": "U8Kw1PMGeWRL"
      },
      "execution_count": null,
      "outputs": []
    },
    {
      "cell_type": "code",
      "source": [
        "# plot the pie chart using above parameters\n"
      ],
      "metadata": {
        "id": "rSpqzDqdefhO"
      },
      "execution_count": null,
      "outputs": []
    }
  ]
}